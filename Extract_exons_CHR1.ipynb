{
 "cells": [
  {
   "cell_type": "code",
   "execution_count": 1,
   "metadata": {},
   "outputs": [],
   "source": [
    "import pysam\n",
    "import pandas as pd\n",
    "\n",
    "transcript = \"/Users/Miko/Desktop/SP18/BIMM 182/Project/refseq.genes.ncbi37\""
   ]
  },
  {
   "cell_type": "code",
   "execution_count": 2,
   "metadata": {},
   "outputs": [
    {
     "data": {
      "text/html": [
       "<div>\n",
       "<style scoped>\n",
       "    .dataframe tbody tr th:only-of-type {\n",
       "        vertical-align: middle;\n",
       "    }\n",
       "\n",
       "    .dataframe tbody tr th {\n",
       "        vertical-align: top;\n",
       "    }\n",
       "\n",
       "    .dataframe thead th {\n",
       "        text-align: right;\n",
       "    }\n",
       "</style>\n",
       "<table border=\"1\" class=\"dataframe\">\n",
       "  <thead>\n",
       "    <tr style=\"text-align: right;\">\n",
       "      <th></th>\n",
       "      <th>#bin</th>\n",
       "      <th>name</th>\n",
       "      <th>chrom</th>\n",
       "      <th>strand</th>\n",
       "      <th>txStart</th>\n",
       "      <th>txEnd</th>\n",
       "      <th>cdsStart</th>\n",
       "      <th>cdsEnd</th>\n",
       "      <th>exonCount</th>\n",
       "      <th>exonStarts</th>\n",
       "      <th>exonEnds</th>\n",
       "      <th>score</th>\n",
       "      <th>name2</th>\n",
       "      <th>cdsStartStat</th>\n",
       "      <th>cdsEndStat</th>\n",
       "      <th>exonFrames</th>\n",
       "    </tr>\n",
       "  </thead>\n",
       "  <tbody>\n",
       "    <tr>\n",
       "      <th>0</th>\n",
       "      <td>0</td>\n",
       "      <td>NM_032291</td>\n",
       "      <td>chr1</td>\n",
       "      <td>+</td>\n",
       "      <td>66999824</td>\n",
       "      <td>67210768</td>\n",
       "      <td>67000041</td>\n",
       "      <td>67208778</td>\n",
       "      <td>25</td>\n",
       "      <td>66999824,67091529,67098752,67101626,67105459,6...</td>\n",
       "      <td>67000051,67091593,67098777,67101698,67105516,6...</td>\n",
       "      <td>0</td>\n",
       "      <td>SGIP1</td>\n",
       "      <td>cmpl</td>\n",
       "      <td>cmpl</td>\n",
       "      <td>0,1,2,0,0,0,1,0,0,0,1,2,1,1,1,1,0,1,1,2,2,0,2,...</td>\n",
       "    </tr>\n",
       "    <tr>\n",
       "      <th>1</th>\n",
       "      <td>1</td>\n",
       "      <td>NM_052998</td>\n",
       "      <td>chr1</td>\n",
       "      <td>+</td>\n",
       "      <td>33546713</td>\n",
       "      <td>33585995</td>\n",
       "      <td>33547850</td>\n",
       "      <td>33585783</td>\n",
       "      <td>12</td>\n",
       "      <td>33546713,33546988,33547201,33547778,33549554,3...</td>\n",
       "      <td>33546895,33547109,33547413,33547955,33549728,3...</td>\n",
       "      <td>0</td>\n",
       "      <td>ADC</td>\n",
       "      <td>cmpl</td>\n",
       "      <td>cmpl</td>\n",
       "      <td>-1,-1,-1,0,0,0,2,2,0,1,0,2,</td>\n",
       "    </tr>\n",
       "    <tr>\n",
       "      <th>2</th>\n",
       "      <td>1</td>\n",
       "      <td>NM_001145278</td>\n",
       "      <td>chr1</td>\n",
       "      <td>+</td>\n",
       "      <td>16767166</td>\n",
       "      <td>16786584</td>\n",
       "      <td>16767256</td>\n",
       "      <td>16785385</td>\n",
       "      <td>8</td>\n",
       "      <td>16767166,16770126,16774364,16774554,16775587,1...</td>\n",
       "      <td>16767270,16770227,16774469,16774636,16775696,1...</td>\n",
       "      <td>0</td>\n",
       "      <td>NECAP2</td>\n",
       "      <td>cmpl</td>\n",
       "      <td>cmpl</td>\n",
       "      <td>0,2,1,1,2,0,1,2,</td>\n",
       "    </tr>\n",
       "    <tr>\n",
       "      <th>3</th>\n",
       "      <td>1</td>\n",
       "      <td>NM_001145277</td>\n",
       "      <td>chr1</td>\n",
       "      <td>+</td>\n",
       "      <td>16767166</td>\n",
       "      <td>16786584</td>\n",
       "      <td>16767256</td>\n",
       "      <td>16785491</td>\n",
       "      <td>7</td>\n",
       "      <td>16767166,16770126,16774364,16774554,16775587,1...</td>\n",
       "      <td>16767348,16770227,16774469,16774636,16775696,1...</td>\n",
       "      <td>0</td>\n",
       "      <td>NECAP2</td>\n",
       "      <td>cmpl</td>\n",
       "      <td>cmpl</td>\n",
       "      <td>0,2,1,1,2,0,1,</td>\n",
       "    </tr>\n",
       "    <tr>\n",
       "      <th>4</th>\n",
       "      <td>1</td>\n",
       "      <td>NM_001080397</td>\n",
       "      <td>chr1</td>\n",
       "      <td>+</td>\n",
       "      <td>8384389</td>\n",
       "      <td>8404227</td>\n",
       "      <td>8384389</td>\n",
       "      <td>8404073</td>\n",
       "      <td>8</td>\n",
       "      <td>8384389,8385357,8385877,8390268,8395496,839787...</td>\n",
       "      <td>8384786,8385450,8386102,8390996,8395650,839805...</td>\n",
       "      <td>0</td>\n",
       "      <td>SLC45A1</td>\n",
       "      <td>cmpl</td>\n",
       "      <td>cmpl</td>\n",
       "      <td>0,1,1,1,0,1,1,0,</td>\n",
       "    </tr>\n",
       "  </tbody>\n",
       "</table>\n",
       "</div>"
      ],
      "text/plain": [
       "   #bin          name chrom strand   txStart     txEnd  cdsStart    cdsEnd  \\\n",
       "0     0     NM_032291  chr1      +  66999824  67210768  67000041  67208778   \n",
       "1     1     NM_052998  chr1      +  33546713  33585995  33547850  33585783   \n",
       "2     1  NM_001145278  chr1      +  16767166  16786584  16767256  16785385   \n",
       "3     1  NM_001145277  chr1      +  16767166  16786584  16767256  16785491   \n",
       "4     1  NM_001080397  chr1      +   8384389   8404227   8384389   8404073   \n",
       "\n",
       "   exonCount                                         exonStarts  \\\n",
       "0         25  66999824,67091529,67098752,67101626,67105459,6...   \n",
       "1         12  33546713,33546988,33547201,33547778,33549554,3...   \n",
       "2          8  16767166,16770126,16774364,16774554,16775587,1...   \n",
       "3          7  16767166,16770126,16774364,16774554,16775587,1...   \n",
       "4          8  8384389,8385357,8385877,8390268,8395496,839787...   \n",
       "\n",
       "                                            exonEnds  score    name2  \\\n",
       "0  67000051,67091593,67098777,67101698,67105516,6...      0    SGIP1   \n",
       "1  33546895,33547109,33547413,33547955,33549728,3...      0      ADC   \n",
       "2  16767270,16770227,16774469,16774636,16775696,1...      0   NECAP2   \n",
       "3  16767348,16770227,16774469,16774636,16775696,1...      0   NECAP2   \n",
       "4  8384786,8385450,8386102,8390996,8395650,839805...      0  SLC45A1   \n",
       "\n",
       "  cdsStartStat cdsEndStat                                         exonFrames  \n",
       "0         cmpl       cmpl  0,1,2,0,0,0,1,0,0,0,1,2,1,1,1,1,0,1,1,2,2,0,2,...  \n",
       "1         cmpl       cmpl                        -1,-1,-1,0,0,0,2,2,0,1,0,2,  \n",
       "2         cmpl       cmpl                                   0,2,1,1,2,0,1,2,  \n",
       "3         cmpl       cmpl                                     0,2,1,1,2,0,1,  \n",
       "4         cmpl       cmpl                                   0,1,1,1,0,1,1,0,  "
      ]
     },
     "execution_count": 2,
     "metadata": {},
     "output_type": "execute_result"
    }
   ],
   "source": [
    "df_transcript = pd.read_table(transcript)\n",
    "df_transcript.head()"
   ]
  },
  {
   "cell_type": "code",
   "execution_count": 3,
   "metadata": {
    "scrolled": true
   },
   "outputs": [
    {
     "data": {
      "text/plain": [
       "pandas.core.frame.DataFrame"
      ]
     },
     "execution_count": 3,
     "metadata": {},
     "output_type": "execute_result"
    }
   ],
   "source": [
    "type(df_transcript)"
   ]
  },
  {
   "cell_type": "code",
   "execution_count": 4,
   "metadata": {},
   "outputs": [
    {
     "data": {
      "text/html": [
       "<div>\n",
       "<style scoped>\n",
       "    .dataframe tbody tr th:only-of-type {\n",
       "        vertical-align: middle;\n",
       "    }\n",
       "\n",
       "    .dataframe tbody tr th {\n",
       "        vertical-align: top;\n",
       "    }\n",
       "\n",
       "    .dataframe thead th {\n",
       "        text-align: right;\n",
       "    }\n",
       "</style>\n",
       "<table border=\"1\" class=\"dataframe\">\n",
       "  <thead>\n",
       "    <tr style=\"text-align: right;\">\n",
       "      <th></th>\n",
       "      <th>#bin</th>\n",
       "      <th>name</th>\n",
       "      <th>chrom</th>\n",
       "      <th>strand</th>\n",
       "      <th>txStart</th>\n",
       "      <th>txEnd</th>\n",
       "      <th>cdsStart</th>\n",
       "      <th>cdsEnd</th>\n",
       "      <th>exonCount</th>\n",
       "      <th>exonStarts</th>\n",
       "      <th>exonEnds</th>\n",
       "      <th>score</th>\n",
       "      <th>name2</th>\n",
       "      <th>cdsStartStat</th>\n",
       "      <th>cdsEndStat</th>\n",
       "      <th>exonFrames</th>\n",
       "    </tr>\n",
       "  </thead>\n",
       "  <tbody>\n",
       "    <tr>\n",
       "      <th>0</th>\n",
       "      <td>0</td>\n",
       "      <td>NM_032291</td>\n",
       "      <td>chr1</td>\n",
       "      <td>+</td>\n",
       "      <td>66999824</td>\n",
       "      <td>67210768</td>\n",
       "      <td>67000041</td>\n",
       "      <td>67208778</td>\n",
       "      <td>25</td>\n",
       "      <td>66999824,67091529,67098752,67101626,67105459,6...</td>\n",
       "      <td>67000051,67091593,67098777,67101698,67105516,6...</td>\n",
       "      <td>0</td>\n",
       "      <td>SGIP1</td>\n",
       "      <td>cmpl</td>\n",
       "      <td>cmpl</td>\n",
       "      <td>0,1,2,0,0,0,1,0,0,0,1,2,1,1,1,1,0,1,1,2,2,0,2,...</td>\n",
       "    </tr>\n",
       "    <tr>\n",
       "      <th>1</th>\n",
       "      <td>1</td>\n",
       "      <td>NM_052998</td>\n",
       "      <td>chr1</td>\n",
       "      <td>+</td>\n",
       "      <td>33546713</td>\n",
       "      <td>33585995</td>\n",
       "      <td>33547850</td>\n",
       "      <td>33585783</td>\n",
       "      <td>12</td>\n",
       "      <td>33546713,33546988,33547201,33547778,33549554,3...</td>\n",
       "      <td>33546895,33547109,33547413,33547955,33549728,3...</td>\n",
       "      <td>0</td>\n",
       "      <td>ADC</td>\n",
       "      <td>cmpl</td>\n",
       "      <td>cmpl</td>\n",
       "      <td>-1,-1,-1,0,0,0,2,2,0,1,0,2,</td>\n",
       "    </tr>\n",
       "    <tr>\n",
       "      <th>2</th>\n",
       "      <td>1</td>\n",
       "      <td>NM_001145278</td>\n",
       "      <td>chr1</td>\n",
       "      <td>+</td>\n",
       "      <td>16767166</td>\n",
       "      <td>16786584</td>\n",
       "      <td>16767256</td>\n",
       "      <td>16785385</td>\n",
       "      <td>8</td>\n",
       "      <td>16767166,16770126,16774364,16774554,16775587,1...</td>\n",
       "      <td>16767270,16770227,16774469,16774636,16775696,1...</td>\n",
       "      <td>0</td>\n",
       "      <td>NECAP2</td>\n",
       "      <td>cmpl</td>\n",
       "      <td>cmpl</td>\n",
       "      <td>0,2,1,1,2,0,1,2,</td>\n",
       "    </tr>\n",
       "    <tr>\n",
       "      <th>3</th>\n",
       "      <td>1</td>\n",
       "      <td>NM_001145277</td>\n",
       "      <td>chr1</td>\n",
       "      <td>+</td>\n",
       "      <td>16767166</td>\n",
       "      <td>16786584</td>\n",
       "      <td>16767256</td>\n",
       "      <td>16785491</td>\n",
       "      <td>7</td>\n",
       "      <td>16767166,16770126,16774364,16774554,16775587,1...</td>\n",
       "      <td>16767348,16770227,16774469,16774636,16775696,1...</td>\n",
       "      <td>0</td>\n",
       "      <td>NECAP2</td>\n",
       "      <td>cmpl</td>\n",
       "      <td>cmpl</td>\n",
       "      <td>0,2,1,1,2,0,1,</td>\n",
       "    </tr>\n",
       "    <tr>\n",
       "      <th>4</th>\n",
       "      <td>1</td>\n",
       "      <td>NM_001080397</td>\n",
       "      <td>chr1</td>\n",
       "      <td>+</td>\n",
       "      <td>8384389</td>\n",
       "      <td>8404227</td>\n",
       "      <td>8384389</td>\n",
       "      <td>8404073</td>\n",
       "      <td>8</td>\n",
       "      <td>8384389,8385357,8385877,8390268,8395496,839787...</td>\n",
       "      <td>8384786,8385450,8386102,8390996,8395650,839805...</td>\n",
       "      <td>0</td>\n",
       "      <td>SLC45A1</td>\n",
       "      <td>cmpl</td>\n",
       "      <td>cmpl</td>\n",
       "      <td>0,1,1,1,0,1,1,0,</td>\n",
       "    </tr>\n",
       "  </tbody>\n",
       "</table>\n",
       "</div>"
      ],
      "text/plain": [
       "   #bin          name chrom strand   txStart     txEnd  cdsStart    cdsEnd  \\\n",
       "0     0     NM_032291  chr1      +  66999824  67210768  67000041  67208778   \n",
       "1     1     NM_052998  chr1      +  33546713  33585995  33547850  33585783   \n",
       "2     1  NM_001145278  chr1      +  16767166  16786584  16767256  16785385   \n",
       "3     1  NM_001145277  chr1      +  16767166  16786584  16767256  16785491   \n",
       "4     1  NM_001080397  chr1      +   8384389   8404227   8384389   8404073   \n",
       "\n",
       "   exonCount                                         exonStarts  \\\n",
       "0         25  66999824,67091529,67098752,67101626,67105459,6...   \n",
       "1         12  33546713,33546988,33547201,33547778,33549554,3...   \n",
       "2          8  16767166,16770126,16774364,16774554,16775587,1...   \n",
       "3          7  16767166,16770126,16774364,16774554,16775587,1...   \n",
       "4          8  8384389,8385357,8385877,8390268,8395496,839787...   \n",
       "\n",
       "                                            exonEnds  score    name2  \\\n",
       "0  67000051,67091593,67098777,67101698,67105516,6...      0    SGIP1   \n",
       "1  33546895,33547109,33547413,33547955,33549728,3...      0      ADC   \n",
       "2  16767270,16770227,16774469,16774636,16775696,1...      0   NECAP2   \n",
       "3  16767348,16770227,16774469,16774636,16775696,1...      0   NECAP2   \n",
       "4  8384786,8385450,8386102,8390996,8395650,839805...      0  SLC45A1   \n",
       "\n",
       "  cdsStartStat cdsEndStat                                         exonFrames  \n",
       "0         cmpl       cmpl  0,1,2,0,0,0,1,0,0,0,1,2,1,1,1,1,0,1,1,2,2,0,2,...  \n",
       "1         cmpl       cmpl                        -1,-1,-1,0,0,0,2,2,0,1,0,2,  \n",
       "2         cmpl       cmpl                                   0,2,1,1,2,0,1,2,  \n",
       "3         cmpl       cmpl                                     0,2,1,1,2,0,1,  \n",
       "4         cmpl       cmpl                                   0,1,1,1,0,1,1,0,  "
      ]
     },
     "execution_count": 4,
     "metadata": {},
     "output_type": "execute_result"
    }
   ],
   "source": [
    "df_chr1 = df_transcript[df_transcript['chrom'] == 'chr1']\n",
    "df_chr1.head()"
   ]
  },
  {
   "cell_type": "code",
   "execution_count": 5,
   "metadata": {},
   "outputs": [
    {
     "data": {
      "text/plain": [
       "(4067, 16)"
      ]
     },
     "execution_count": 5,
     "metadata": {},
     "output_type": "execute_result"
    }
   ],
   "source": [
    "df_chr1.shape    # 4066 rows actually (4067 includes the header)"
   ]
  },
  {
   "cell_type": "code",
   "execution_count": 6,
   "metadata": {
    "scrolled": false
   },
   "outputs": [
    {
     "data": {
      "text/html": [
       "<div>\n",
       "<style scoped>\n",
       "    .dataframe tbody tr th:only-of-type {\n",
       "        vertical-align: middle;\n",
       "    }\n",
       "\n",
       "    .dataframe tbody tr th {\n",
       "        vertical-align: top;\n",
       "    }\n",
       "\n",
       "    .dataframe thead th {\n",
       "        text-align: right;\n",
       "    }\n",
       "</style>\n",
       "<table border=\"1\" class=\"dataframe\">\n",
       "  <thead>\n",
       "    <tr style=\"text-align: right;\">\n",
       "      <th></th>\n",
       "      <th>name</th>\n",
       "      <th>strand</th>\n",
       "      <th>exonCount</th>\n",
       "      <th>exonStarts</th>\n",
       "      <th>exonEnds</th>\n",
       "      <th>exonFrames</th>\n",
       "    </tr>\n",
       "  </thead>\n",
       "  <tbody>\n",
       "    <tr>\n",
       "      <th>0</th>\n",
       "      <td>NM_032291</td>\n",
       "      <td>+</td>\n",
       "      <td>25</td>\n",
       "      <td>66999824,67091529,67098752,67101626,67105459,6...</td>\n",
       "      <td>67000051,67091593,67098777,67101698,67105516,6...</td>\n",
       "      <td>0,1,2,0,0,0,1,0,0,0,1,2,1,1,1,1,0,1,1,2,2,0,2,...</td>\n",
       "    </tr>\n",
       "    <tr>\n",
       "      <th>1</th>\n",
       "      <td>NM_052998</td>\n",
       "      <td>+</td>\n",
       "      <td>12</td>\n",
       "      <td>33546713,33546988,33547201,33547778,33549554,3...</td>\n",
       "      <td>33546895,33547109,33547413,33547955,33549728,3...</td>\n",
       "      <td>-1,-1,-1,0,0,0,2,2,0,1,0,2,</td>\n",
       "    </tr>\n",
       "    <tr>\n",
       "      <th>2</th>\n",
       "      <td>NM_001145278</td>\n",
       "      <td>+</td>\n",
       "      <td>8</td>\n",
       "      <td>16767166,16770126,16774364,16774554,16775587,1...</td>\n",
       "      <td>16767270,16770227,16774469,16774636,16775696,1...</td>\n",
       "      <td>0,2,1,1,2,0,1,2,</td>\n",
       "    </tr>\n",
       "    <tr>\n",
       "      <th>3</th>\n",
       "      <td>NM_001145277</td>\n",
       "      <td>+</td>\n",
       "      <td>7</td>\n",
       "      <td>16767166,16770126,16774364,16774554,16775587,1...</td>\n",
       "      <td>16767348,16770227,16774469,16774636,16775696,1...</td>\n",
       "      <td>0,2,1,1,2,0,1,</td>\n",
       "    </tr>\n",
       "    <tr>\n",
       "      <th>4</th>\n",
       "      <td>NM_001080397</td>\n",
       "      <td>+</td>\n",
       "      <td>8</td>\n",
       "      <td>8384389,8385357,8385877,8390268,8395496,839787...</td>\n",
       "      <td>8384786,8385450,8386102,8390996,8395650,839805...</td>\n",
       "      <td>0,1,1,1,0,1,1,0,</td>\n",
       "    </tr>\n",
       "  </tbody>\n",
       "</table>\n",
       "</div>"
      ],
      "text/plain": [
       "           name strand  exonCount  \\\n",
       "0     NM_032291      +         25   \n",
       "1     NM_052998      +         12   \n",
       "2  NM_001145278      +          8   \n",
       "3  NM_001145277      +          7   \n",
       "4  NM_001080397      +          8   \n",
       "\n",
       "                                          exonStarts  \\\n",
       "0  66999824,67091529,67098752,67101626,67105459,6...   \n",
       "1  33546713,33546988,33547201,33547778,33549554,3...   \n",
       "2  16767166,16770126,16774364,16774554,16775587,1...   \n",
       "3  16767166,16770126,16774364,16774554,16775587,1...   \n",
       "4  8384389,8385357,8385877,8390268,8395496,839787...   \n",
       "\n",
       "                                            exonEnds  \\\n",
       "0  67000051,67091593,67098777,67101698,67105516,6...   \n",
       "1  33546895,33547109,33547413,33547955,33549728,3...   \n",
       "2  16767270,16770227,16774469,16774636,16775696,1...   \n",
       "3  16767348,16770227,16774469,16774636,16775696,1...   \n",
       "4  8384786,8385450,8386102,8390996,8395650,839805...   \n",
       "\n",
       "                                          exonFrames  \n",
       "0  0,1,2,0,0,0,1,0,0,0,1,2,1,1,1,1,0,1,1,2,2,0,2,...  \n",
       "1                        -1,-1,-1,0,0,0,2,2,0,1,0,2,  \n",
       "2                                   0,2,1,1,2,0,1,2,  \n",
       "3                                     0,2,1,1,2,0,1,  \n",
       "4                                   0,1,1,1,0,1,1,0,  "
      ]
     },
     "execution_count": 6,
     "metadata": {},
     "output_type": "execute_result"
    }
   ],
   "source": [
    "exonRange_chr1 = df_chr1[['name', 'strand', 'exonCount', 'exonStarts', 'exonEnds', 'exonFrames']]\n",
    "exonRange_chr1.head()"
   ]
  },
  {
   "cell_type": "code",
   "execution_count": null,
   "metadata": {},
   "outputs": [],
   "source": []
  },
  {
   "cell_type": "code",
   "execution_count": null,
   "metadata": {},
   "outputs": [],
   "source": []
  },
  {
   "cell_type": "markdown",
   "metadata": {},
   "source": [
    "## Create a dictionary, where key is the gene, and the value is the strand(+/-)"
   ]
  },
  {
   "cell_type": "code",
   "execution_count": 7,
   "metadata": {},
   "outputs": [],
   "source": [
    "gene_strand_dict = {}\n",
    "\n",
    "genes = exonRange_chr1['name'].tolist()\n",
    "strand = exonRange_chr1['strand'].tolist()"
   ]
  },
  {
   "cell_type": "code",
   "execution_count": 8,
   "metadata": {},
   "outputs": [
    {
     "data": {
      "text/plain": [
       "4067"
      ]
     },
     "execution_count": 8,
     "metadata": {},
     "output_type": "execute_result"
    }
   ],
   "source": [
    "len(genes)"
   ]
  },
  {
   "cell_type": "code",
   "execution_count": 9,
   "metadata": {},
   "outputs": [
    {
     "data": {
      "text/plain": [
       "4067"
      ]
     },
     "execution_count": 9,
     "metadata": {},
     "output_type": "execute_result"
    }
   ],
   "source": [
    "len(strand)"
   ]
  },
  {
   "cell_type": "code",
   "execution_count": null,
   "metadata": {},
   "outputs": [],
   "source": [
    "for g, s in zip(genes, strand):  \n",
    "    gene_strand_dict[g] = s\n",
    "len(gene_strand_dict)"
   ]
  },
  {
   "cell_type": "code",
   "execution_count": 10,
   "metadata": {},
   "outputs": [
    {
     "data": {
      "text/plain": [
       "4014"
      ]
     },
     "execution_count": 10,
     "metadata": {},
     "output_type": "execute_result"
    }
   ],
   "source": [
    "len(set(genes))"
   ]
  },
  {
   "cell_type": "code",
   "execution_count": null,
   "metadata": {},
   "outputs": [],
   "source": []
  },
  {
   "cell_type": "markdown",
   "metadata": {},
   "source": [
    "## Operations with the exon start and end points"
   ]
  },
  {
   "cell_type": "code",
   "execution_count": null,
   "metadata": {},
   "outputs": [],
   "source": [
    "# ONLY the first gene\n",
    "gene1_chr1_exon = exonRange_chr1[exonRange_chr1['name'] == 'NM_032291']\n",
    "\n",
    "gene1_chr1_exon_starts = gene1_chr1_exon['exonStarts'].tolist()\n",
    "\n",
    "gene1_chr1_exon_ends = gene1_chr1_exon['exonEnds'].tolist()\n",
    "\n",
    "gene1_chr1_exon_frames = gene1_chr1_exon['exonFrames'].tolist()\n"
   ]
  },
  {
   "cell_type": "code",
   "execution_count": null,
   "metadata": {},
   "outputs": [],
   "source": [
    "# For loop only runs once: operates on the string \n",
    "for string in gene1_chr1_exon_starts:\n",
    "    starts = string.split(',')\n",
    "    starts = list(filter(None, starts))  # get rid of the empty string at the end\n",
    "  \n",
    "for string in gene1_chr1_exon_ends:\n",
    "    ends = string.split(',')\n",
    "    ends = list(filter(None, ends))\n",
    "    \n",
    "for string in gene1_chr1_exon_frames:\n",
    "    frames = string.split(',')\n",
    "    frames = list(filter(None, frames))\n",
    "\n",
    "print(frames)"
   ]
  },
  {
   "cell_type": "markdown",
   "metadata": {},
   "source": [
    "## Create a dictionary, where the key is the gene, and the value is a list of exon start and end positions"
   ]
  },
  {
   "cell_type": "code",
   "execution_count": null,
   "metadata": {},
   "outputs": [],
   "source": [
    "exon_list = []\n",
    "for s, e in zip(starts, ends):  \n",
    "    exon_list.append([s,e])\n",
    "len(exon_list)"
   ]
  },
  {
   "cell_type": "code",
   "execution_count": null,
   "metadata": {},
   "outputs": [],
   "source": []
  },
  {
   "cell_type": "code",
   "execution_count": null,
   "metadata": {},
   "outputs": [],
   "source": []
  },
  {
   "cell_type": "code",
   "execution_count": null,
   "metadata": {},
   "outputs": [],
   "source": [
    "# Lengths of each exon\n",
    "for exon in exon_list:\n",
    "    print(int(exon[1]) - int(exon[0]))"
   ]
  },
  {
   "cell_type": "code",
   "execution_count": null,
   "metadata": {},
   "outputs": [],
   "source": [
    "gene_exon_dict = {}\n",
    "gene_exon_dict['NM_032291'] = exon_list\n",
    "print(gene_exon_dict)"
   ]
  },
  {
   "cell_type": "code",
   "execution_count": null,
   "metadata": {},
   "outputs": [],
   "source": []
  },
  {
   "cell_type": "code",
   "execution_count": null,
   "metadata": {},
   "outputs": [],
   "source": []
  },
  {
   "cell_type": "code",
   "execution_count": null,
   "metadata": {},
   "outputs": [],
   "source": []
  },
  {
   "cell_type": "code",
   "execution_count": null,
   "metadata": {},
   "outputs": [],
   "source": []
  },
  {
   "cell_type": "code",
   "execution_count": null,
   "metadata": {},
   "outputs": [],
   "source": []
  },
  {
   "cell_type": "code",
   "execution_count": null,
   "metadata": {},
   "outputs": [],
   "source": [
    "# Used AFTER the sequence is fetched\n",
    "def reverse_complement(sequence):\n",
    "    \n",
    "    complement = {'A': 'T', 'C': 'G', 'G': 'C', 'T': 'A'}\n",
    "    seq = \"AGTATC\"\n",
    "    reverse_complement = \"\".join(complement.get(base, base) for base in reversed(seq))\n",
    "    #reverse_complement"
   ]
  },
  {
   "cell_type": "code",
   "execution_count": null,
   "metadata": {},
   "outputs": [],
   "source": []
  }
 ],
 "metadata": {
  "kernelspec": {
   "display_name": "Python 3",
   "language": "python",
   "name": "python3"
  },
  "language_info": {
   "codemirror_mode": {
    "name": "ipython",
    "version": 3
   },
   "file_extension": ".py",
   "mimetype": "text/x-python",
   "name": "python",
   "nbconvert_exporter": "python",
   "pygments_lexer": "ipython3",
   "version": "3.6.4"
  }
 },
 "nbformat": 4,
 "nbformat_minor": 2
}
