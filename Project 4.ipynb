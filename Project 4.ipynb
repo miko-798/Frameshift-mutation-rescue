{
 "cells": [
  {
   "cell_type": "markdown",
   "metadata": {},
   "source": [
    "Author: Yiyao Jin"
   ]
  },
  {
   "cell_type": "code",
   "execution_count": 1,
   "metadata": {},
   "outputs": [],
   "source": [
    "import pandas as pd"
   ]
  },
  {
   "cell_type": "code",
   "execution_count": 2,
   "metadata": {},
   "outputs": [],
   "source": [
    "import pysam\n",
    "import os"
   ]
  },
  {
   "cell_type": "code",
   "execution_count": 3,
   "metadata": {},
   "outputs": [],
   "source": [
    "refSeq = pd.read_table('./refseq.genes.ncbi37')"
   ]
  },
  {
   "cell_type": "code",
   "execution_count": 4,
   "metadata": {},
   "outputs": [
    {
     "data": {
      "text/html": [
       "<div>\n",
       "<style>\n",
       "    .dataframe thead tr:only-child th {\n",
       "        text-align: right;\n",
       "    }\n",
       "\n",
       "    .dataframe thead th {\n",
       "        text-align: left;\n",
       "    }\n",
       "\n",
       "    .dataframe tbody tr th {\n",
       "        vertical-align: top;\n",
       "    }\n",
       "</style>\n",
       "<table border=\"1\" class=\"dataframe\">\n",
       "  <thead>\n",
       "    <tr style=\"text-align: right;\">\n",
       "      <th></th>\n",
       "      <th>#bin</th>\n",
       "      <th>name</th>\n",
       "      <th>chrom</th>\n",
       "      <th>strand</th>\n",
       "      <th>txStart</th>\n",
       "      <th>txEnd</th>\n",
       "      <th>cdsStart</th>\n",
       "      <th>cdsEnd</th>\n",
       "      <th>exonCount</th>\n",
       "      <th>exonStarts</th>\n",
       "      <th>exonEnds</th>\n",
       "      <th>score</th>\n",
       "      <th>name2</th>\n",
       "      <th>cdsStartStat</th>\n",
       "      <th>cdsEndStat</th>\n",
       "      <th>exonFrames</th>\n",
       "    </tr>\n",
       "  </thead>\n",
       "  <tbody>\n",
       "    <tr>\n",
       "      <th>0</th>\n",
       "      <td>0</td>\n",
       "      <td>NM_032291</td>\n",
       "      <td>chr1</td>\n",
       "      <td>+</td>\n",
       "      <td>66999824</td>\n",
       "      <td>67210768</td>\n",
       "      <td>67000041</td>\n",
       "      <td>67208778</td>\n",
       "      <td>25</td>\n",
       "      <td>66999824,67091529,67098752,67101626,67105459,6...</td>\n",
       "      <td>67000051,67091593,67098777,67101698,67105516,6...</td>\n",
       "      <td>0</td>\n",
       "      <td>SGIP1</td>\n",
       "      <td>cmpl</td>\n",
       "      <td>cmpl</td>\n",
       "      <td>0,1,2,0,0,0,1,0,0,0,1,2,1,1,1,1,0,1,1,2,2,0,2,...</td>\n",
       "    </tr>\n",
       "    <tr>\n",
       "      <th>1</th>\n",
       "      <td>1</td>\n",
       "      <td>NM_052998</td>\n",
       "      <td>chr1</td>\n",
       "      <td>+</td>\n",
       "      <td>33546713</td>\n",
       "      <td>33585995</td>\n",
       "      <td>33547850</td>\n",
       "      <td>33585783</td>\n",
       "      <td>12</td>\n",
       "      <td>33546713,33546988,33547201,33547778,33549554,3...</td>\n",
       "      <td>33546895,33547109,33547413,33547955,33549728,3...</td>\n",
       "      <td>0</td>\n",
       "      <td>ADC</td>\n",
       "      <td>cmpl</td>\n",
       "      <td>cmpl</td>\n",
       "      <td>-1,-1,-1,0,0,0,2,2,0,1,0,2,</td>\n",
       "    </tr>\n",
       "    <tr>\n",
       "      <th>2</th>\n",
       "      <td>1</td>\n",
       "      <td>NM_001145278</td>\n",
       "      <td>chr1</td>\n",
       "      <td>+</td>\n",
       "      <td>16767166</td>\n",
       "      <td>16786584</td>\n",
       "      <td>16767256</td>\n",
       "      <td>16785385</td>\n",
       "      <td>8</td>\n",
       "      <td>16767166,16770126,16774364,16774554,16775587,1...</td>\n",
       "      <td>16767270,16770227,16774469,16774636,16775696,1...</td>\n",
       "      <td>0</td>\n",
       "      <td>NECAP2</td>\n",
       "      <td>cmpl</td>\n",
       "      <td>cmpl</td>\n",
       "      <td>0,2,1,1,2,0,1,2,</td>\n",
       "    </tr>\n",
       "    <tr>\n",
       "      <th>3</th>\n",
       "      <td>1</td>\n",
       "      <td>NM_001145277</td>\n",
       "      <td>chr1</td>\n",
       "      <td>+</td>\n",
       "      <td>16767166</td>\n",
       "      <td>16786584</td>\n",
       "      <td>16767256</td>\n",
       "      <td>16785491</td>\n",
       "      <td>7</td>\n",
       "      <td>16767166,16770126,16774364,16774554,16775587,1...</td>\n",
       "      <td>16767348,16770227,16774469,16774636,16775696,1...</td>\n",
       "      <td>0</td>\n",
       "      <td>NECAP2</td>\n",
       "      <td>cmpl</td>\n",
       "      <td>cmpl</td>\n",
       "      <td>0,2,1,1,2,0,1,</td>\n",
       "    </tr>\n",
       "    <tr>\n",
       "      <th>4</th>\n",
       "      <td>1</td>\n",
       "      <td>NM_001080397</td>\n",
       "      <td>chr1</td>\n",
       "      <td>+</td>\n",
       "      <td>8384389</td>\n",
       "      <td>8404227</td>\n",
       "      <td>8384389</td>\n",
       "      <td>8404073</td>\n",
       "      <td>8</td>\n",
       "      <td>8384389,8385357,8385877,8390268,8395496,839787...</td>\n",
       "      <td>8384786,8385450,8386102,8390996,8395650,839805...</td>\n",
       "      <td>0</td>\n",
       "      <td>SLC45A1</td>\n",
       "      <td>cmpl</td>\n",
       "      <td>cmpl</td>\n",
       "      <td>0,1,1,1,0,1,1,0,</td>\n",
       "    </tr>\n",
       "    <tr>\n",
       "      <th>5</th>\n",
       "      <td>1</td>\n",
       "      <td>NM_018090</td>\n",
       "      <td>chr1</td>\n",
       "      <td>+</td>\n",
       "      <td>16767166</td>\n",
       "      <td>16786584</td>\n",
       "      <td>16767256</td>\n",
       "      <td>16785385</td>\n",
       "      <td>8</td>\n",
       "      <td>16767166,16770126,16774364,16774554,16775587,1...</td>\n",
       "      <td>16767348,16770227,16774469,16774636,16775696,1...</td>\n",
       "      <td>0</td>\n",
       "      <td>NECAP2</td>\n",
       "      <td>cmpl</td>\n",
       "      <td>cmpl</td>\n",
       "      <td>0,2,1,1,2,0,1,2,</td>\n",
       "    </tr>\n",
       "    <tr>\n",
       "      <th>6</th>\n",
       "      <td>1</td>\n",
       "      <td>NM_013943</td>\n",
       "      <td>chr1</td>\n",
       "      <td>+</td>\n",
       "      <td>25071759</td>\n",
       "      <td>25170815</td>\n",
       "      <td>25072044</td>\n",
       "      <td>25167428</td>\n",
       "      <td>6</td>\n",
       "      <td>25071759,25124232,25140584,25153500,25166350,2...</td>\n",
       "      <td>25072116,25124342,25140710,25153607,25166532,2...</td>\n",
       "      <td>0</td>\n",
       "      <td>CLIC4</td>\n",
       "      <td>cmpl</td>\n",
       "      <td>cmpl</td>\n",
       "      <td>0,0,2,2,1,0,</td>\n",
       "    </tr>\n",
       "    <tr>\n",
       "      <th>7</th>\n",
       "      <td>1</td>\n",
       "      <td>NM_032785</td>\n",
       "      <td>chr1</td>\n",
       "      <td>-</td>\n",
       "      <td>48998526</td>\n",
       "      <td>50489626</td>\n",
       "      <td>48999844</td>\n",
       "      <td>50489468</td>\n",
       "      <td>14</td>\n",
       "      <td>48998526,49000561,49005313,49052675,49056504,4...</td>\n",
       "      <td>48999965,49000588,49005410,49052838,49056657,4...</td>\n",
       "      <td>0</td>\n",
       "      <td>AGBL4</td>\n",
       "      <td>cmpl</td>\n",
       "      <td>cmpl</td>\n",
       "      <td>2,2,1,0,0,2,1,1,0,2,0,1,1,0,</td>\n",
       "    </tr>\n",
       "    <tr>\n",
       "      <th>8</th>\n",
       "      <td>2</td>\n",
       "      <td>NM_001195684</td>\n",
       "      <td>chr1</td>\n",
       "      <td>-</td>\n",
       "      <td>92145899</td>\n",
       "      <td>92371559</td>\n",
       "      <td>92149295</td>\n",
       "      <td>92327088</td>\n",
       "      <td>18</td>\n",
       "      <td>92145899,92161228,92163645,92174219,92177799,9...</td>\n",
       "      <td>92149414,92161336,92163687,92174340,92178099,9...</td>\n",
       "      <td>0</td>\n",
       "      <td>TGFBR3</td>\n",
       "      <td>cmpl</td>\n",
       "      <td>cmpl</td>\n",
       "      <td>1,1,1,0,0,0,0,0,1,0,2,1,0,0,1,0,-1,-1,</td>\n",
       "    </tr>\n",
       "    <tr>\n",
       "      <th>9</th>\n",
       "      <td>2</td>\n",
       "      <td>NM_001195683</td>\n",
       "      <td>chr1</td>\n",
       "      <td>-</td>\n",
       "      <td>92145899</td>\n",
       "      <td>92351836</td>\n",
       "      <td>92149295</td>\n",
       "      <td>92327088</td>\n",
       "      <td>17</td>\n",
       "      <td>92145899,92161228,92163645,92174219,92177799,9...</td>\n",
       "      <td>92149414,92161336,92163687,92174340,92178099,9...</td>\n",
       "      <td>0</td>\n",
       "      <td>TGFBR3</td>\n",
       "      <td>cmpl</td>\n",
       "      <td>cmpl</td>\n",
       "      <td>1,1,1,0,0,0,0,0,1,0,2,1,0,0,1,0,-1,</td>\n",
       "    </tr>\n",
       "  </tbody>\n",
       "</table>\n",
       "</div>"
      ],
      "text/plain": [
       "   #bin          name chrom strand   txStart     txEnd  cdsStart    cdsEnd  \\\n",
       "0     0     NM_032291  chr1      +  66999824  67210768  67000041  67208778   \n",
       "1     1     NM_052998  chr1      +  33546713  33585995  33547850  33585783   \n",
       "2     1  NM_001145278  chr1      +  16767166  16786584  16767256  16785385   \n",
       "3     1  NM_001145277  chr1      +  16767166  16786584  16767256  16785491   \n",
       "4     1  NM_001080397  chr1      +   8384389   8404227   8384389   8404073   \n",
       "5     1     NM_018090  chr1      +  16767166  16786584  16767256  16785385   \n",
       "6     1     NM_013943  chr1      +  25071759  25170815  25072044  25167428   \n",
       "7     1     NM_032785  chr1      -  48998526  50489626  48999844  50489468   \n",
       "8     2  NM_001195684  chr1      -  92145899  92371559  92149295  92327088   \n",
       "9     2  NM_001195683  chr1      -  92145899  92351836  92149295  92327088   \n",
       "\n",
       "   exonCount                                         exonStarts  \\\n",
       "0         25  66999824,67091529,67098752,67101626,67105459,6...   \n",
       "1         12  33546713,33546988,33547201,33547778,33549554,3...   \n",
       "2          8  16767166,16770126,16774364,16774554,16775587,1...   \n",
       "3          7  16767166,16770126,16774364,16774554,16775587,1...   \n",
       "4          8  8384389,8385357,8385877,8390268,8395496,839787...   \n",
       "5          8  16767166,16770126,16774364,16774554,16775587,1...   \n",
       "6          6  25071759,25124232,25140584,25153500,25166350,2...   \n",
       "7         14  48998526,49000561,49005313,49052675,49056504,4...   \n",
       "8         18  92145899,92161228,92163645,92174219,92177799,9...   \n",
       "9         17  92145899,92161228,92163645,92174219,92177799,9...   \n",
       "\n",
       "                                            exonEnds  score    name2  \\\n",
       "0  67000051,67091593,67098777,67101698,67105516,6...      0    SGIP1   \n",
       "1  33546895,33547109,33547413,33547955,33549728,3...      0      ADC   \n",
       "2  16767270,16770227,16774469,16774636,16775696,1...      0   NECAP2   \n",
       "3  16767348,16770227,16774469,16774636,16775696,1...      0   NECAP2   \n",
       "4  8384786,8385450,8386102,8390996,8395650,839805...      0  SLC45A1   \n",
       "5  16767348,16770227,16774469,16774636,16775696,1...      0   NECAP2   \n",
       "6  25072116,25124342,25140710,25153607,25166532,2...      0    CLIC4   \n",
       "7  48999965,49000588,49005410,49052838,49056657,4...      0    AGBL4   \n",
       "8  92149414,92161336,92163687,92174340,92178099,9...      0   TGFBR3   \n",
       "9  92149414,92161336,92163687,92174340,92178099,9...      0   TGFBR3   \n",
       "\n",
       "  cdsStartStat cdsEndStat                                         exonFrames  \n",
       "0         cmpl       cmpl  0,1,2,0,0,0,1,0,0,0,1,2,1,1,1,1,0,1,1,2,2,0,2,...  \n",
       "1         cmpl       cmpl                        -1,-1,-1,0,0,0,2,2,0,1,0,2,  \n",
       "2         cmpl       cmpl                                   0,2,1,1,2,0,1,2,  \n",
       "3         cmpl       cmpl                                     0,2,1,1,2,0,1,  \n",
       "4         cmpl       cmpl                                   0,1,1,1,0,1,1,0,  \n",
       "5         cmpl       cmpl                                   0,2,1,1,2,0,1,2,  \n",
       "6         cmpl       cmpl                                       0,0,2,2,1,0,  \n",
       "7         cmpl       cmpl                       2,2,1,0,0,2,1,1,0,2,0,1,1,0,  \n",
       "8         cmpl       cmpl             1,1,1,0,0,0,0,0,1,0,2,1,0,0,1,0,-1,-1,  \n",
       "9         cmpl       cmpl                1,1,1,0,0,0,0,0,1,0,2,1,0,0,1,0,-1,  "
      ]
     },
     "execution_count": 4,
     "metadata": {},
     "output_type": "execute_result"
    }
   ],
   "source": [
    "refSeq.head(10)"
   ]
  },
  {
   "cell_type": "code",
   "execution_count": 5,
   "metadata": {},
   "outputs": [],
   "source": [
    "codonMap = {\"TTT\":\"F\", \"TTC\":\"F\", \"TTA\":\"L\", \"TTG\":\"L\",\n",
    "    \"TCT\":\"S\", \"TCC\":\"S\", \"TCA\":\"S\", \"TCG\":\"S\",\n",
    "    \"TAT\":\"Y\", \"TAC\":\"Y\", \"TAA\":\"STOP\", \"TAG\":\"STOP\",\n",
    "    \"TGT\":\"C\", \"TGC\":\"C\", \"TGA\":\"STOP\", \"TGG\":\"W\",\n",
    "    \"CTT\":\"L\", \"CTC\":\"L\", \"CTA\":\"L\", \"CTG\":\"L\",\n",
    "    \"CCT\":\"P\", \"CCC\":\"P\", \"CCA\":\"P\", \"CCG\":\"P\",\n",
    "    \"CAT\":\"H\", \"CAC\":\"H\", \"CAA\":\"Q\", \"CAG\":\"Q\",\n",
    "    \"CGT\":\"R\", \"CGC\":\"R\", \"CGA\":\"R\", \"CGG\":\"R\",\n",
    "    \"ATT\":\"I\", \"ATC\":\"I\", \"ATA\":\"I\", \"ATG\":\"M\",\n",
    "    \"ACT\":\"T\", \"ACC\":\"T\", \"ACA\":\"T\", \"ACG\":\"T\",\n",
    "    \"AAT\":\"N\", \"AAC\":\"N\", \"AAA\":\"K\", \"AAG\":\"K\",\n",
    "    \"AGT\":\"S\", \"AGC\":\"S\", \"AGA\":\"R\", \"AGG\":\"R\",\n",
    "    \"GTT\":\"V\", \"GTC\":\"V\", \"GTA\":\"V\", \"GTG\":\"V\",\n",
    "    \"GCT\":\"A\", \"GCC\":\"A\", \"GCA\":\"A\", \"GCG\":\"A\",\n",
    "    \"GAT\":\"D\", \"GAC\":\"D\", \"GAA\":\"E\", \"GAG\":\"E\",\n",
    "    \"GGT\":\"G\", \"GGC\":\"G\", \"GGA\":\"G\", \"GGG\":\"G\",}"
   ]
  },
  {
   "cell_type": "code",
   "execution_count": 6,
   "metadata": {},
   "outputs": [],
   "source": [
    "def ReverseComplement(Text):\n",
    "    reversedComplement = \"\"\n",
    "    for x in range(0,len(Text)):\n",
    "        if Text[x] == \"A\":\n",
    "            curr = \"T\"\n",
    "        elif Text[x] == \"T\":\n",
    "            curr = \"A\"\n",
    "        elif Text[x] == \"G\":\n",
    "            curr = \"C\"\n",
    "        else:\n",
    "            curr = \"G\"\n",
    "        reversedComplement = curr + reversedComplement\n",
    "    return reversedComplement"
   ]
  },
  {
   "cell_type": "code",
   "execution_count": 7,
   "metadata": {},
   "outputs": [],
   "source": [
    "def ExtractExonSeqs(data):\n",
    "    exonSeqs = [\"\"]*len(data)\n",
    "    extractSeq = pysam.FastaFile('./chromFa/' + 'chr1' +'.fa')\n",
    "    \n",
    "    for i in range(len(data)):\n",
    "        start = data['exonStarts'][i][:-1].split(',')\n",
    "        end = data['exonEnds'][i][:-1].split(',')\n",
    "        \n",
    "        if i != 0 and data['chrom'][i] != data['chrom'][i-1]:\n",
    "            extractSeq = pysam.FastaFile('./chromFa/' + data['chrom'][i] +'.fa')\n",
    "        s = \"\"\n",
    "        readFrame = data['exonFrames'][i][:-1].split(',')\n",
    "        \n",
    "        for j in range(len(start)):\n",
    "            if readFrame[j] == str(-1):\n",
    "                continue\n",
    "            s += extractSeq.fetch(\"\", int(start[j]), int(end[j]), data['chrom'][i])\n",
    "        \n",
    "        exonSeqs[i] = s\n",
    "        \n",
    "        if data['strand'][i] == '-':\n",
    "            exonSeqs[i] = ReverseComplement(s)\n",
    "    \n",
    "    return exonSeqs"
   ]
  },
  {
   "cell_type": "code",
   "execution_count": 8,
   "metadata": {},
   "outputs": [],
   "source": [
    "def Calculatelength(data):\n",
    "    length = [0]*len(data)\n",
    "    for i in range(len(data)):\n",
    "        start = data['exonStarts'][i][:-1].split(',')\n",
    "        end = data['exonEnds'][i][:-1].split(',')\n",
    "        length[i] = [0]*len(start)\n",
    "        for j in range(len(start)):\n",
    "            length[i][j] = int(end[j]) - int(start[j])\n",
    "        if data['strand'][i] == '-':\n",
    "            length[i] = list(reversed(length[i]))\n",
    "    return length"
   ]
  },
  {
   "cell_type": "code",
   "execution_count": 9,
   "metadata": {},
   "outputs": [],
   "source": [
    "exonLength = Calculatelength(refSeq)"
   ]
  },
  {
   "cell_type": "code",
   "execution_count": 10,
   "metadata": {},
   "outputs": [],
   "source": [
    "exonSeqsO = ExtractExonSeqs(refSeq)"
   ]
  },
  {
   "cell_type": "code",
   "execution_count": 11,
   "metadata": {},
   "outputs": [],
   "source": [
    "def Translation(codonmap, seqs, data):\n",
    "    threeReadingFrame = []\n",
    "    # 3 reading frame\n",
    "\n",
    "    for i in range(len(seqs)):\n",
    "        start = data['cdsStart'][i] - data['txStart'][i]\n",
    "        end = len(seqs[i]) + data['cdsEnd'][i] - data['txEnd'][i]\n",
    "        aa = []\n",
    "        for x in range(0,3):\n",
    "            aminoAcid = \"\"\n",
    "            for j in range(start+x, end-2, 3):\n",
    "                codon = codonmap[seqs[i][j:j+3].upper()]\n",
    "                if codon == \"STOP\":\n",
    "                    break\n",
    "                aminoAcid += codon\n",
    "            aa.append(aminoAcid)\n",
    "        threeReadingFrame.append(aa)\n",
    "        \n",
    "    return threeReadingFrame"
   ]
  },
  {
   "cell_type": "code",
   "execution_count": 12,
   "metadata": {},
   "outputs": [],
   "source": [
    "transcript = Translation(codonMap, exonSeqsO, refSeq)    "
   ]
  },
  {
   "cell_type": "code",
   "execution_count": 13,
   "metadata": {},
   "outputs": [],
   "source": [
    "with open(\"transcript.txt\", \"w\") as file_out:\n",
    "    file_out.write('ReadingFrame1 ReadingFrame2 ReadingFrame3'+ '\\n')\n",
    "    for x in range(len(transcript)):\n",
    "        for y in range(len(transcript[x])):\n",
    "            file_out.write(transcript[x][y] + '-')\n",
    "        file_out.write('\\n')"
   ]
  },
  {
   "cell_type": "code",
   "execution_count": 14,
   "metadata": {},
   "outputs": [],
   "source": [
    "def ExtractExonSeqsFrag(data):\n",
    "    exonSeqs = [\"\"]*len(data)\n",
    "    extractSeq = pysam.FastaFile('./chromFa/' + 'chr1' +'.fa')\n",
    "    \n",
    "    for i in range(len(data)):\n",
    "        exonNum = data['exonCount'][i]\n",
    "        start = data['exonStarts'][i][:-1].split(',')\n",
    "        end = data['exonEnds'][i][:-1].split(',')\n",
    "        \n",
    "        # update chromosome if different from the last one\n",
    "        if i != 0 and data['chrom'][i] != data['chrom'][i-1]:\n",
    "            extractSeq = pysam.FastaFile('./chromFa/' + data['chrom'][i] +'.fa')\n",
    "        s = \"\"\n",
    "        exons = [0]*exonNum \n",
    "        readFrame = data['exonFrames'][i][:-1].split(',')\n",
    "        \n",
    "        #for each line, extract all the exons\n",
    "        for j in range(exonNum):\n",
    "            if readFrame[j] == str(-1):\n",
    "                continue\n",
    "            s = extractSeq.fetch(\"\", int(start[j]), int(end[j]), data['chrom'][i])\n",
    "            if data['strand'][i] == '-':\n",
    "                exons[exonNum-1-j]=ReverseComplement(s)\n",
    "            else:  \n",
    "                exons[j]=s\n",
    "   \n",
    "        exonSeqs[i] = exons\n",
    "    return exonSeqs"
   ]
  },
  {
   "cell_type": "code",
   "execution_count": 15,
   "metadata": {},
   "outputs": [],
   "source": [
    "exonSeqsF = ExtractExonSeqsFrag(refSeq)"
   ]
  },
  {
   "cell_type": "code",
   "execution_count": 16,
   "metadata": {},
   "outputs": [],
   "source": [
    "testSeq = exonSeqsF"
   ]
  },
  {
   "cell_type": "code",
   "execution_count": 17,
   "metadata": {},
   "outputs": [],
   "source": [
    "def checkStopCodon(sequence,table):\n",
    "    for x in range(0, len(sequence),3):\n",
    "        codon = table[sequence[x:x+3].upper()]\n",
    "        if codon == \"STOP\":\n",
    "            return False\n",
    "    return True"
   ]
  },
  {
   "cell_type": "code",
   "execution_count": 18,
   "metadata": {},
   "outputs": [],
   "source": [
    "def checkRangeInsert1_before(data,seqs,i,j,k,nucleotide):\n",
    "    lengthSeq = len(seqs[i][j])\n",
    "    readFrame = data['exonFrames'][i][:-1].split(',')[j]\n",
    "    # insert at beginning\n",
    "    \n",
    "    #check delete previous exon to rescue\n",
    "    # insert after each index\n",
    "    # add boundary condition for k >= lengthSeq-2\n",
    "    if k < lengthSeq-1:\n",
    "        off = k%3\n",
    "        #position mod 3\n",
    "        if off == 0:\n",
    "        # check different reading frames\n",
    "            if readFrame == '0':\n",
    "                return seqs[i][j-2][-2:]+seqs[i][j][:k+1]+nucleotide+seqs[i][j][k+1:k+3]\n",
    "            elif readFrame == '1':\n",
    "                return seqs[i][j-2][-1]+seqs[i][j][:k+1]+nucleotide\n",
    "            else:\n",
    "                return seqs[i][j][:k+1]+nucleotide+seqs[i][j][k+1]\n",
    "        elif off == 1:\n",
    "            if readFrame == '0':\n",
    "                return seqs[i][j-2][-2:]+seqs[i][j][:k+1]+nucleotide+seqs[i][j][k+1]\n",
    "            elif readFrame == '1':\n",
    "                return seqs[i][j-2][-1]+seqs[i][j][:k+1]+nucleotide+seqs[i][j][k+1:k+3]\n",
    "            else:\n",
    "                return seqs[i][j][:k+1]+nucleotide\n",
    "        else:\n",
    "            if readFrame == '0':\n",
    "                return seqs[i][j-2][-2:]+seqs[i][j][:k+1]+nucleotide\n",
    "            elif readFrame == '1':\n",
    "                return seqs[i][j-2][-1]+seqs[i][j][:k+1]+nucleotide+seqs[i][j][k+1]\n",
    "            else:\n",
    "                return seqs[i][j][:k+1]+nucleotide+seqs[i][j][k+1:k+3]"
   ]
  },
  {
   "cell_type": "code",
   "execution_count": 19,
   "metadata": {},
   "outputs": [],
   "source": [
    "def checkRangeInsert2_before(data,seqs,i,j,k,nucleotide):\n",
    "    lengthSeq = len(seqs[i][j])\n",
    "    readFrame = data['exonFrames'][i][:-1].split(',')[j]\n",
    "    # insert at beginning\n",
    "    \n",
    "    #check delete previous exon to rescue\n",
    "    # insert after each index\n",
    "    # add boundary condition for k >= lengthSeq-2\n",
    "    if k < lengthSeq-2:\n",
    "        off = k%3\n",
    "        #position mod 3\n",
    "        if off == 0:\n",
    "        # check different reading frames\n",
    "            if readFrame == '0':\n",
    "                return seqs[i][j-2][-1]+seqs[i][j][:k+1]+nucleotide+seqs[i][j][k+1:k+3]\n",
    "            elif readFrame == '2':\n",
    "                return seqs[i][j][:k+1]+nucleotide\n",
    "            else:\n",
    "                return seqs[i][j-2][-2:]+seqs[i][j][:k+1]+nucleotide+seqs[i][j][k+1]\n",
    "        elif off == 1:\n",
    "            if readFrame == '0':\n",
    "                return seqs[i][j-2][-1:]+seqs[i][j][:k+1]+nucleotide+seqs[i][j][k+1]\n",
    "            elif readFrame == '2':\n",
    "                return seqs[i][j][:k+1]+nucleotide+seqs[i][j][k+1:k+3]\n",
    "            else:\n",
    "                return seqs[i][j-2][-2:]+seqs[i][j][:k+1]+nucleotide\n",
    "        else:\n",
    "            if readFrame == '0':\n",
    "                return seqs[i][j-2][-1:]+seqs[i][j][:k+1]+nucleotide\n",
    "            elif readFrame == '2':\n",
    "                return seqs[i][j][:k+1]+seqs[i][j][:k+1]+nucleotide+seqs[i][j][k+1]\n",
    "            else:\n",
    "                return seqs[i][j-2][-2:]+nucleotide+seqs[i][j][k+1:k+3]"
   ]
  },
  {
   "cell_type": "code",
   "execution_count": 20,
   "metadata": {},
   "outputs": [
    {
     "data": {
      "text/plain": [
       "'GGCAGGCAG'"
      ]
     },
     "execution_count": 20,
     "metadata": {},
     "output_type": "execute_result"
    }
   ],
   "source": [
    "checkRangeInsert2_before(refSeq,testSeq,1,5,3,'GC')"
   ]
  },
  {
   "cell_type": "code",
   "execution_count": 21,
   "metadata": {},
   "outputs": [],
   "source": [
    "def checkRangeInsert_after(data,seqs,i,j,k,nucleotide):\n",
    "    lengthSeq = len(seqs[i][j])\n",
    "    readFrame = data['exonFrames'][i][:-1].split(',')[j]\n",
    "    # insert at beginning\n",
    "    \n",
    "    \n",
    "    # insert after each index\n",
    "    if k < lengthSeq-2:\n",
    "        off = k%3\n",
    "        result = ''\n",
    "        #position mod 3\n",
    "        if off == 0:\n",
    "        # check different reading frames\n",
    "            if readFrame == '0':\n",
    "                result = seqs[i][j][k]+nucleotide+seqs[i][j][k+1:]\n",
    "            elif readFrame == '2':\n",
    "                result = nucleotide+seqs[i][j][k+1:]\n",
    "            else:\n",
    "                result = seqs[i][j][k-1:k+1]+nucleotide+seqs[i][j][k+1:]\n",
    "        elif off == 1:\n",
    "            if readFrame == '0':\n",
    "                result = seqs[i][j][k-1:k+1]+nucleotide+seqs[i][j][k+1:]\n",
    "            elif readFrame == '2':\n",
    "                result = seqs[i][j][k]+nucleotide+seqs[i][j][k+1:]\n",
    "            else:\n",
    "                result = nucleotide+seqs[i][j][k+1:]\n",
    "        else:\n",
    "            if readFrame == '0':\n",
    "                result = nucleotide+seqs[i][j][k+1:]\n",
    "            elif readFrame == '2':\n",
    "                result = seqs[i][j][k-1:k+1]+nucleotide+seqs[i][j][k+1:]\n",
    "            else:\n",
    "                result = seqs[i][j][k]+nucleotide+seqs[i][j][k+1:]\n",
    "        if len(result)%3 == 0:\n",
    "            return result\n",
    "        elif len(result)%3 == 1:\n",
    "            return result + seqs[i][j+2][:2]\n",
    "        else:\n",
    "            return result + seqs[i][j+2][:1]"
   ]
  },
  {
   "cell_type": "code",
   "execution_count": 22,
   "metadata": {},
   "outputs": [
    {
     "data": {
      "text/plain": [
       "171"
      ]
     },
     "execution_count": 22,
     "metadata": {},
     "output_type": "execute_result"
    }
   ],
   "source": [
    "len(checkRangeInsert_after(refSeq,testSeq,1,5,3,'G'))"
   ]
  },
  {
   "cell_type": "code",
   "execution_count": 23,
   "metadata": {},
   "outputs": [],
   "source": [
    "def checkRangedelete2_before(data,seqs,i,j,k):\n",
    "    exonSeq = len(seqs[i][j])\n",
    "    readFrame = data['exonFrames'][i][:-1].split(',')[j]\n",
    "    # insert at beginning\n",
    "    \n",
    "    #check delete previous exon to rescue\n",
    "    # insert after each index\n",
    "    # add boundary condition for k >= lengthSeq-2\n",
    "    if k < exonSeq-1:\n",
    "        off = k%3\n",
    "        #position mod 3\n",
    "        if off == 0:\n",
    "        # check different reading frames\n",
    "            if readFrame == '0':\n",
    "                #print(i,j,k)\n",
    "                return seqs[i][j-2][-2:]+seqs[i][j][:k]+seqs[i][j][k+2]\n",
    "            elif readFrame == '2':\n",
    "                return seqs[i][j-2][-1]+seqs[i][j][:k]+seqs[i][j][k+2:k+4]\n",
    "            else:\n",
    "                return seqs[i][j][:k]\n",
    "        elif off == 1:\n",
    "            if readFrame == '0':\n",
    "                return seqs[i][j-2][-2:]+seqs[i][j][:k]\n",
    "            elif readFrame == '2':\n",
    "                return seqs[i][j-2][-1]+seqs[i][j][:k]+seqs[i][j][k+2]\n",
    "            else:\n",
    "                return seqs[i][j][:k]+seqs[i][j][k+2:k+4]\n",
    "        else:\n",
    "            if readFrame == '0':\n",
    "                return seqs[i][j-2][-2:]+seqs[i][j][:k]+seqs[i][j][k+2:k+4]\n",
    "            elif readFrame == '2':\n",
    "                return seqs[i][j-2][-1]+seqs[i][j][:k]\n",
    "            else:\n",
    "                return seqs[i][j][:k]+seqs[i][j][k+2]"
   ]
  },
  {
   "cell_type": "code",
   "execution_count": 24,
   "metadata": {},
   "outputs": [
    {
     "data": {
      "text/plain": [
       "'TGAGGGTCATTTTCAACATTGTTAACTTCAGTAAAACCAAGAGTCTCTATAGAGATGGGATGGCCCCTATGGTGAAATCTACCAGCAGACCAAAG'"
      ]
     },
     "execution_count": 24,
     "metadata": {},
     "output_type": "execute_result"
    }
   ],
   "source": [
    "checkRangedelete2_before(refSeq,testSeq,7,3,92)"
   ]
  },
  {
   "cell_type": "code",
   "execution_count": 25,
   "metadata": {},
   "outputs": [],
   "source": [
    "def checkRangedelete1_before(data,seqs,i,j,k):\n",
    "    lengthSeq = len(seqs[i][j])\n",
    "    readFrame = data['exonFrames'][i][:-1].split(',')[j]\n",
    "    # insert at beginning\n",
    "    \n",
    "    #check delete previous exon to rescue\n",
    "    # insert after each index\n",
    "    # add boundary condition for k >= lengthSeq-2\n",
    "    if k < lengthSeq:\n",
    "        off = k%3\n",
    "        #position mod 3\n",
    "        if off == 0:\n",
    "        # check different reading frames\n",
    "            if readFrame == '0':\n",
    "                return seqs[i][j-2][-1]+seqs[i][j][:k]+seqs[i][j][k+1:k+3]\n",
    "            elif readFrame == '2':\n",
    "                return seqs[i][j][:k]\n",
    "            else:\n",
    "                return seqs[i][j-2][-2:]+seqs[i][j][:k]+seqs[i][j][k+1]\n",
    "        elif off == 1:\n",
    "            if readFrame == '0':\n",
    "                return seqs[i][j-2][-1]+seqs[i][j][:k]+seqs[i][j][k+1]\n",
    "            elif readFrame == '2':\n",
    "                return seqs[i][j][:k]+seqs[i][j][k+1:k+3]\n",
    "            else:\n",
    "                return seqs[i][j-2][-2:]+seqs[i][j][:k]\n",
    "        else:\n",
    "            if readFrame == '0':\n",
    "                return seqs[i][j-2][-1]+seqs[i][j][:k]\n",
    "            elif readFrame == '2':\n",
    "                return seqs[i][j][:k]+seqs[i][j][k+1]\n",
    "            else:\n",
    "                return seqs[i][j-2][-2:]+seqs[i][j][:k]+seqs[i][j][k+1:k+3]"
   ]
  },
  {
   "cell_type": "code",
   "execution_count": 26,
   "metadata": {},
   "outputs": [
    {
     "data": {
      "text/plain": [
       "'GAGGGTCATTTTCAACATTGTTAACTTCAGTAAAACCAAGAGTCTCTATAGAGATGGGATGGCCCCTATGGTGAAATCTACCAGCAGACCAAA'"
      ]
     },
     "execution_count": 26,
     "metadata": {},
     "output_type": "execute_result"
    }
   ],
   "source": [
    "checkRangedelete1_before(refSeq,testSeq,7,3,92)"
   ]
  },
  {
   "cell_type": "code",
   "execution_count": 27,
   "metadata": {},
   "outputs": [
    {
     "data": {
      "text/plain": [
       "'2'"
      ]
     },
     "execution_count": 27,
     "metadata": {},
     "output_type": "execute_result"
    }
   ],
   "source": [
    "refSeq['exonFrames'][1][:-1].split(',')[6]"
   ]
  },
  {
   "cell_type": "code",
   "execution_count": 28,
   "metadata": {},
   "outputs": [],
   "source": [
    "def checkRangeDelete_after(data,seqs,i,j,k,num):\n",
    "    lengthSeq = len(seqs[i][j])\n",
    "    readFrame = data['exonFrames'][i][:-1].split(',')[j]\n",
    "    # insert at beginning\n",
    "    \n",
    "    \n",
    "    # insert after each index\n",
    "    if k < lengthSeq-2:\n",
    "        off = k%3\n",
    "        result = ''\n",
    "        #position mod 3\n",
    "        if off == 0:\n",
    "        # check different reading frames\n",
    "            if readFrame == '0':\n",
    "                result = seqs[i][j][k+num:]\n",
    "            elif readFrame == '2':\n",
    "                result = seqs[i][j][k-2:k]+seqs[i][j][k+num:]\n",
    "            else:\n",
    "                result = seqs[i][j][k-1]+seqs[i][j][k+num:]\n",
    "        elif off == 1:\n",
    "            if readFrame == '0':\n",
    "                result = seqs[i][j][k-1]+seqs[i][j][k+num:]\n",
    "            elif readFrame == '2':\n",
    "                result = seqs[i][j][k+num:]\n",
    "            else:\n",
    "                result = seqs[i][j][k-2:k]+seqs[i][j][k+num:]\n",
    "        else:\n",
    "            if readFrame == '0':\n",
    "                result = seqs[i][j][k-2:k]+seqs[i][j][k+num:]\n",
    "            elif readFrame == '2':\n",
    "                result = seqs[i][j][k-1]+seqs[i][j][k+num:]\n",
    "            else:\n",
    "                result = seqs[i][j][k+num:]\n",
    "        if len(result)%3 == 0:\n",
    "            return result\n",
    "        elif len(result)%3 == 1:\n",
    "            return result + seqs[i][j+2][:2]\n",
    "        else:\n",
    "            return result + seqs[i][j+2][:1]"
   ]
  },
  {
   "cell_type": "code",
   "execution_count": 29,
   "metadata": {},
   "outputs": [
    {
     "data": {
      "text/plain": [
       "171"
      ]
     },
     "execution_count": 29,
     "metadata": {},
     "output_type": "execute_result"
    }
   ],
   "source": [
    "len(checkRangeDelete_after(refSeq,testSeq,1,5,3,1))"
   ]
  },
  {
   "cell_type": "code",
   "execution_count": 30,
   "metadata": {},
   "outputs": [],
   "source": [
    "def findcds(seqs):\n",
    "    cdsRegion = [0]*len(seqs)\n",
    "    for i in range(len(seqs)):\n",
    "        for j in range(len(seqs[i])):\n",
    "            if seqs[i][j]!= 0:\n",
    "                cdsRegion[i] = [0]*2\n",
    "                cdsRegion[i][0] = j\n",
    "                break\n",
    "        for j in range(len(seqs[i])):\n",
    "            if seqs[i][len(seqs[i])-1-j]!= 0:\n",
    "                cdsRegion[i][1] = len(seqs[i])-1-j\n",
    "                break\n",
    "    return cdsRegion"
   ]
  },
  {
   "cell_type": "code",
   "execution_count": 31,
   "metadata": {},
   "outputs": [],
   "source": [
    "def frameshift(data, seqs, i, j, k, cmap, PoN, exonL, posRes):\n",
    "\n",
    "    # frameshift +1\n",
    "    if exonL[i][j+PoN]%3 == 1:\n",
    "        if PoN == -1:\n",
    "            #check new possible stop code, insert 1\n",
    "            for m in {'A', 'C', 'G', 'T'}:\n",
    "                checkRangeI = checkRangeInsert1_before(data,seqs,i,j,k,m)\n",
    "                if checkStopCodon(checkRangeI,cmap):\n",
    "                    posRes[0] = m\n",
    "            #Or delete 2 nucleotide\n",
    "            checkRangeD = checkRangedelete2_before(data,seqs,i,j,k)\n",
    "            #print(i,j,k)\n",
    "            if checkStopCodon(checkRangeD,cmap):\n",
    "                posRes[1] = 'd2'\n",
    "        else:\n",
    "            for m in {'A', 'C', 'G', 'T'}:\n",
    "                checkRangeI = checkRangeInsert_after(data,seqs,i,j,k,m)\n",
    "                if checkStopCodon(checkRangeI,cmap):\n",
    "                    posRes[2] = m\n",
    "            #Or delete 2 nucleotide\n",
    "            checkRangeD = checkRangeDelete_after(data,seqs,i,j,k,2)\n",
    "            if checkStopCodon(checkRangeD,cmap):\n",
    "                posRes[3] = 'd2'\n",
    "    # frameshift +2\n",
    "    elif exonL[i][j+PoN]%3 == 2:\n",
    "        if PoN == -1:\n",
    "            for m in {'AA', 'AC', 'AG', 'AT', \n",
    "                      'CA', 'CC', 'CG', 'CT', \n",
    "                      'GA', 'GC', 'GG', 'GT',\n",
    "                      'TA', 'TC', 'TG', 'TT'}:\n",
    "                checkRangeI = checkRangeInsert2_before(data,seqs,i,j,k,m)\n",
    "                if checkStopCodon(checkRangeI,cmap):\n",
    "                    posRes[4] = m\n",
    "            checkRangeD = checkRangedelete1_before(data,seqs,i,j,k)\n",
    "            if checkStopCodon(checkRangeD,cmap):\n",
    "                posRes[5] = 'd1'\n",
    "        else:\n",
    "            for m in {'AA', 'AC', 'AG', 'AT', \n",
    "                      'CA', 'CC', 'CG', 'CT', \n",
    "                      'GA', 'GC', 'GG', 'GT',\n",
    "                      'TA', 'TC', 'TG', 'TT'}:\n",
    "                checkRangeI = checkRangeInsert_after(data,seqs,i,j,k,m)\n",
    "                if checkStopCodon(checkRangeI,cmap):\n",
    "                    posRes[6] = m\n",
    "            checkRangeD = checkRangeDelete_after(data,seqs,i,j,k,1)\n",
    "            if checkStopCodon(checkRangeD,cmap):\n",
    "                posRes[7] = 'd1'\n",
    "    return posRes"
   ]
  },
  {
   "cell_type": "code",
   "execution_count": 32,
   "metadata": {},
   "outputs": [],
   "source": [
    "def PositionRescue(data, seqs, i, exonS, exonD, cmap, exonL):\n",
    "    readFrame = data['exonFrames'][i][:-1].split(',')\n",
    "    exonNum = data['exonCount'][i]\n",
    "    pR = [0]*exonNum\n",
    "    \n",
    "    # delete the previous exon to rescue\n",
    "    for j in range(exonS+2,exonD+1):  \n",
    "        pR[j] = [0]*exonL[i][j]\n",
    "        # iterate positions\n",
    "        # insert after each position, delete that position\n",
    "        for h in range(exonL[i][j]-3):\n",
    "            #print(i,j,h)\n",
    "            pR[j][h] = frameshift(data, seqs, i, j, h, cmap, -1, exonL, [0]*8)\n",
    "            \n",
    "            \n",
    "    # delete the next exon to rescue\n",
    "    for j in range(exonS,exonD-1):  \n",
    "        pR[j] = [0]*exonL[i][j]\n",
    "        # insert after each position, delete that position\n",
    "        for h in range(exonL[i][j]-3):\n",
    "            pR[j][h] = frameshift(data, seqs, i, j, h, cmap, 1, exonL, [0]*8)\n",
    "               \n",
    "    return pR\n"
   ]
  },
  {
   "cell_type": "code",
   "execution_count": 33,
   "metadata": {},
   "outputs": [
    {
     "data": {
      "text/plain": [
       "217"
      ]
     },
     "execution_count": 33,
     "metadata": {},
     "output_type": "execute_result"
    }
   ],
   "source": [
    "len(testSeq[7][4])"
   ]
  },
  {
   "cell_type": "code",
   "execution_count": 34,
   "metadata": {},
   "outputs": [
    {
     "data": {
      "text/plain": [
       "[0, 24]"
      ]
     },
     "execution_count": 34,
     "metadata": {},
     "output_type": "execute_result"
    }
   ],
   "source": [
    "findcds(testSeq)[0]"
   ]
  },
  {
   "cell_type": "code",
   "execution_count": 36,
   "metadata": {},
   "outputs": [
    {
     "data": {
      "text/plain": [
       "False"
      ]
     },
     "execution_count": 36,
     "metadata": {},
     "output_type": "execute_result"
    }
   ],
   "source": [
    "PositionRescue(refSeq, testSeq, 0, 0, 24, codonMap, exonLength)[0][0] != [0]*8"
   ]
  },
  {
   "cell_type": "code",
   "execution_count": 50,
   "metadata": {},
   "outputs": [],
   "source": [
    "def Rescue(data, seqs, cmap):\n",
    "    with open(\"Rescue.txt\", \"w\") as file_out:\n",
    "        file_out.write('Gene Exon Position Frameshift Exon_skipped Comments'+'\\n')\n",
    "        possibleRescue = [0]*len(data)\n",
    "        exonLen = Calculatelength(data)\n",
    "        cdsR = findcds(seqs)\n",
    "\n",
    "        for i in range(len(seqs)):\n",
    "            if cdsR[i] == 0:\n",
    "                continue\n",
    "            s = cdsR[i][0]\n",
    "            e = cdsR[i][1]\n",
    "            possibleRescue[i] = PositionRescue(data, seqs, i, s ,e, cmap, exonLen)\n",
    "            for j in range(data['exonCount'][i]):\n",
    "                if possibleRescue[i][j] != 0:\n",
    "                    for k in range(exonLen[i][j]):\n",
    "                        if possibleRescue[i][j][k] != 0 and possibleRescue[i][j][k] != [0]*8:\n",
    "                            #print(possibleRescue[i][j][k])\n",
    "                            file_out.write(data['name'][i]+' '+str(j)+' '+str(k)+' ')\n",
    "                            if possibleRescue[i][j][k][0] or possibleRescue[i][j][k][1] or possibleRescue[i][j][k][2] or possibleRescue[i][j][k][3]!= 0:\n",
    "                                file_out.write('+1'+' ')\n",
    "                            else:\n",
    "                                file_out.write('+2'+' ')\n",
    "                            if possibleRescue[i][j][k][0] or possibleRescue[i][j][k][1] or possibleRescue[i][j][k][4] or possibleRescue[i][j][k][5]!= 0:\n",
    "                                file_out.write(str(k-1)+' ')\n",
    "                            else:\n",
    "                                file_out.write(str(k+1)+' ')\n",
    "                            for x in range(8):\n",
    "                                if possibleRescue[i][j][k][x] != 0:\n",
    "                                    file_out.write(str(possibleRescue[i][j][k][x])+' ')\n",
    "                            file_out.write('\\n')"
   ]
  },
  {
   "cell_type": "code",
   "execution_count": 52,
   "metadata": {
    "scrolled": false
   },
   "outputs": [
    {
     "ename": "KeyboardInterrupt",
     "evalue": "",
     "output_type": "error",
     "traceback": [
      "\u001b[0;31m---------------------------------------------------------------------------\u001b[0m",
      "\u001b[0;31mKeyboardInterrupt\u001b[0m                         Traceback (most recent call last)",
      "\u001b[0;32m<ipython-input-52-0fbb23674228>\u001b[0m in \u001b[0;36m<module>\u001b[0;34m()\u001b[0m\n\u001b[0;32m----> 1\u001b[0;31m \u001b[0mRescue\u001b[0m\u001b[0;34m(\u001b[0m\u001b[0mrefSeq\u001b[0m\u001b[0;34m,\u001b[0m \u001b[0mtestSeq\u001b[0m\u001b[0;34m,\u001b[0m \u001b[0mcodonMap\u001b[0m\u001b[0;34m)\u001b[0m\u001b[0;34m\u001b[0m\u001b[0m\n\u001b[0m",
      "\u001b[0;32m<ipython-input-50-b8fb72bee1cc>\u001b[0m in \u001b[0;36mRescue\u001b[0;34m(data, seqs, cmap)\u001b[0m\n\u001b[1;32m     11\u001b[0m             \u001b[0ms\u001b[0m \u001b[0;34m=\u001b[0m \u001b[0mcdsR\u001b[0m\u001b[0;34m[\u001b[0m\u001b[0mi\u001b[0m\u001b[0;34m]\u001b[0m\u001b[0;34m[\u001b[0m\u001b[0;36m0\u001b[0m\u001b[0;34m]\u001b[0m\u001b[0;34m\u001b[0m\u001b[0m\n\u001b[1;32m     12\u001b[0m             \u001b[0me\u001b[0m \u001b[0;34m=\u001b[0m \u001b[0mcdsR\u001b[0m\u001b[0;34m[\u001b[0m\u001b[0mi\u001b[0m\u001b[0;34m]\u001b[0m\u001b[0;34m[\u001b[0m\u001b[0;36m1\u001b[0m\u001b[0;34m]\u001b[0m\u001b[0;34m\u001b[0m\u001b[0m\n\u001b[0;32m---> 13\u001b[0;31m             \u001b[0mpossibleRescue\u001b[0m\u001b[0;34m[\u001b[0m\u001b[0mi\u001b[0m\u001b[0;34m]\u001b[0m \u001b[0;34m=\u001b[0m \u001b[0mPositionRescue\u001b[0m\u001b[0;34m(\u001b[0m\u001b[0mdata\u001b[0m\u001b[0;34m,\u001b[0m \u001b[0mseqs\u001b[0m\u001b[0;34m,\u001b[0m \u001b[0mi\u001b[0m\u001b[0;34m,\u001b[0m \u001b[0ms\u001b[0m \u001b[0;34m,\u001b[0m\u001b[0me\u001b[0m\u001b[0;34m,\u001b[0m \u001b[0mcmap\u001b[0m\u001b[0;34m,\u001b[0m \u001b[0mexonLen\u001b[0m\u001b[0;34m)\u001b[0m\u001b[0;34m\u001b[0m\u001b[0m\n\u001b[0m\u001b[1;32m     14\u001b[0m             \u001b[0;32mfor\u001b[0m \u001b[0mj\u001b[0m \u001b[0;32min\u001b[0m \u001b[0mrange\u001b[0m\u001b[0;34m(\u001b[0m\u001b[0mdata\u001b[0m\u001b[0;34m[\u001b[0m\u001b[0;34m'exonCount'\u001b[0m\u001b[0;34m]\u001b[0m\u001b[0;34m[\u001b[0m\u001b[0mi\u001b[0m\u001b[0;34m]\u001b[0m\u001b[0;34m)\u001b[0m\u001b[0;34m:\u001b[0m\u001b[0;34m\u001b[0m\u001b[0m\n\u001b[1;32m     15\u001b[0m                 \u001b[0;32mif\u001b[0m \u001b[0mpossibleRescue\u001b[0m\u001b[0;34m[\u001b[0m\u001b[0mi\u001b[0m\u001b[0;34m]\u001b[0m\u001b[0;34m[\u001b[0m\u001b[0mj\u001b[0m\u001b[0;34m]\u001b[0m \u001b[0;34m!=\u001b[0m \u001b[0;36m0\u001b[0m\u001b[0;34m:\u001b[0m\u001b[0;34m\u001b[0m\u001b[0m\n",
      "\u001b[0;32m<ipython-input-32-5354f8f90395>\u001b[0m in \u001b[0;36mPositionRescue\u001b[0;34m(data, seqs, i, exonS, exonD, cmap, exonL)\u001b[0m\n\u001b[1;32m     11\u001b[0m         \u001b[0;32mfor\u001b[0m \u001b[0mh\u001b[0m \u001b[0;32min\u001b[0m \u001b[0mrange\u001b[0m\u001b[0;34m(\u001b[0m\u001b[0mexonL\u001b[0m\u001b[0;34m[\u001b[0m\u001b[0mi\u001b[0m\u001b[0;34m]\u001b[0m\u001b[0;34m[\u001b[0m\u001b[0mj\u001b[0m\u001b[0;34m]\u001b[0m\u001b[0;34m-\u001b[0m\u001b[0;36m3\u001b[0m\u001b[0;34m)\u001b[0m\u001b[0;34m:\u001b[0m\u001b[0;34m\u001b[0m\u001b[0m\n\u001b[1;32m     12\u001b[0m             \u001b[0;31m#print(i,j,h)\u001b[0m\u001b[0;34m\u001b[0m\u001b[0;34m\u001b[0m\u001b[0m\n\u001b[0;32m---> 13\u001b[0;31m             \u001b[0mpR\u001b[0m\u001b[0;34m[\u001b[0m\u001b[0mj\u001b[0m\u001b[0;34m]\u001b[0m\u001b[0;34m[\u001b[0m\u001b[0mh\u001b[0m\u001b[0;34m]\u001b[0m \u001b[0;34m=\u001b[0m \u001b[0mframeshift\u001b[0m\u001b[0;34m(\u001b[0m\u001b[0mdata\u001b[0m\u001b[0;34m,\u001b[0m \u001b[0mseqs\u001b[0m\u001b[0;34m,\u001b[0m \u001b[0mi\u001b[0m\u001b[0;34m,\u001b[0m \u001b[0mj\u001b[0m\u001b[0;34m,\u001b[0m \u001b[0mh\u001b[0m\u001b[0;34m,\u001b[0m \u001b[0mcmap\u001b[0m\u001b[0;34m,\u001b[0m \u001b[0;34m-\u001b[0m\u001b[0;36m1\u001b[0m\u001b[0;34m,\u001b[0m \u001b[0mexonL\u001b[0m\u001b[0;34m,\u001b[0m \u001b[0;34m[\u001b[0m\u001b[0;36m0\u001b[0m\u001b[0;34m]\u001b[0m\u001b[0;34m*\u001b[0m\u001b[0;36m8\u001b[0m\u001b[0;34m)\u001b[0m\u001b[0;34m\u001b[0m\u001b[0m\n\u001b[0m\u001b[1;32m     14\u001b[0m \u001b[0;34m\u001b[0m\u001b[0m\n\u001b[1;32m     15\u001b[0m \u001b[0;34m\u001b[0m\u001b[0m\n",
      "\u001b[0;32m<ipython-input-31-8d0804fd6ea5>\u001b[0m in \u001b[0;36mframeshift\u001b[0;34m(data, seqs, i, j, k, cmap, PoN, exonL, posRes)\u001b[0m\n\u001b[1;32m     31\u001b[0m                       'TA', 'TC', 'TG', 'TT'}:\n\u001b[1;32m     32\u001b[0m                 \u001b[0mcheckRangeI\u001b[0m \u001b[0;34m=\u001b[0m \u001b[0mcheckRangeInsert2_before\u001b[0m\u001b[0;34m(\u001b[0m\u001b[0mdata\u001b[0m\u001b[0;34m,\u001b[0m\u001b[0mseqs\u001b[0m\u001b[0;34m,\u001b[0m\u001b[0mi\u001b[0m\u001b[0;34m,\u001b[0m\u001b[0mj\u001b[0m\u001b[0;34m,\u001b[0m\u001b[0mk\u001b[0m\u001b[0;34m,\u001b[0m\u001b[0mm\u001b[0m\u001b[0;34m)\u001b[0m\u001b[0;34m\u001b[0m\u001b[0m\n\u001b[0;32m---> 33\u001b[0;31m                 \u001b[0;32mif\u001b[0m \u001b[0mcheckStopCodon\u001b[0m\u001b[0;34m(\u001b[0m\u001b[0mcheckRangeI\u001b[0m\u001b[0;34m,\u001b[0m\u001b[0mcmap\u001b[0m\u001b[0;34m)\u001b[0m\u001b[0;34m:\u001b[0m\u001b[0;34m\u001b[0m\u001b[0m\n\u001b[0m\u001b[1;32m     34\u001b[0m                     \u001b[0mposRes\u001b[0m\u001b[0;34m[\u001b[0m\u001b[0;36m4\u001b[0m\u001b[0;34m]\u001b[0m \u001b[0;34m=\u001b[0m \u001b[0mm\u001b[0m\u001b[0;34m\u001b[0m\u001b[0m\n\u001b[1;32m     35\u001b[0m             \u001b[0mcheckRangeD\u001b[0m \u001b[0;34m=\u001b[0m \u001b[0mcheckRangedelete1_before\u001b[0m\u001b[0;34m(\u001b[0m\u001b[0mdata\u001b[0m\u001b[0;34m,\u001b[0m\u001b[0mseqs\u001b[0m\u001b[0;34m,\u001b[0m\u001b[0mi\u001b[0m\u001b[0;34m,\u001b[0m\u001b[0mj\u001b[0m\u001b[0;34m,\u001b[0m\u001b[0mk\u001b[0m\u001b[0;34m)\u001b[0m\u001b[0;34m\u001b[0m\u001b[0m\n",
      "\u001b[0;32m<ipython-input-17-342d63585805>\u001b[0m in \u001b[0;36mcheckStopCodon\u001b[0;34m(sequence, table)\u001b[0m\n\u001b[1;32m      1\u001b[0m \u001b[0;32mdef\u001b[0m \u001b[0mcheckStopCodon\u001b[0m\u001b[0;34m(\u001b[0m\u001b[0msequence\u001b[0m\u001b[0;34m,\u001b[0m\u001b[0mtable\u001b[0m\u001b[0;34m)\u001b[0m\u001b[0;34m:\u001b[0m\u001b[0;34m\u001b[0m\u001b[0m\n\u001b[1;32m      2\u001b[0m     \u001b[0;32mfor\u001b[0m \u001b[0mx\u001b[0m \u001b[0;32min\u001b[0m \u001b[0mrange\u001b[0m\u001b[0;34m(\u001b[0m\u001b[0;36m0\u001b[0m\u001b[0;34m,\u001b[0m \u001b[0mlen\u001b[0m\u001b[0;34m(\u001b[0m\u001b[0msequence\u001b[0m\u001b[0;34m)\u001b[0m\u001b[0;34m,\u001b[0m\u001b[0;36m3\u001b[0m\u001b[0;34m)\u001b[0m\u001b[0;34m:\u001b[0m\u001b[0;34m\u001b[0m\u001b[0m\n\u001b[0;32m----> 3\u001b[0;31m         \u001b[0mcodon\u001b[0m \u001b[0;34m=\u001b[0m \u001b[0mtable\u001b[0m\u001b[0;34m[\u001b[0m\u001b[0msequence\u001b[0m\u001b[0;34m[\u001b[0m\u001b[0mx\u001b[0m\u001b[0;34m:\u001b[0m\u001b[0mx\u001b[0m\u001b[0;34m+\u001b[0m\u001b[0;36m3\u001b[0m\u001b[0;34m]\u001b[0m\u001b[0;34m.\u001b[0m\u001b[0mupper\u001b[0m\u001b[0;34m(\u001b[0m\u001b[0;34m)\u001b[0m\u001b[0;34m]\u001b[0m\u001b[0;34m\u001b[0m\u001b[0m\n\u001b[0m\u001b[1;32m      4\u001b[0m         \u001b[0;32mif\u001b[0m \u001b[0mcodon\u001b[0m \u001b[0;34m==\u001b[0m \u001b[0;34m\"STOP\"\u001b[0m\u001b[0;34m:\u001b[0m\u001b[0;34m\u001b[0m\u001b[0m\n\u001b[1;32m      5\u001b[0m             \u001b[0;32mreturn\u001b[0m \u001b[0;32mFalse\u001b[0m\u001b[0;34m\u001b[0m\u001b[0m\n",
      "\u001b[0;31mKeyboardInterrupt\u001b[0m: "
     ]
    }
   ],
   "source": [
    "Rescue(refSeq, testSeq, codonMap)"
   ]
  },
  {
   "cell_type": "code",
   "execution_count": null,
   "metadata": {},
   "outputs": [],
   "source": [
    "len(testSeq[6][5])"
   ]
  },
  {
   "cell_type": "code",
   "execution_count": null,
   "metadata": {},
   "outputs": [],
   "source": [
    "def possibleRescue(data,seqs):\n",
    "    total = 0\n",
    "    exonLen = Calculatelength(data)\n",
    "    cdsR = findcds(seqs)\n",
    "    for i in range(len(exonLen)):\n",
    "        if cdsR[i] != 0:\n",
    "            for j in range(cdsR[i][0]+1,cdsR[i][1]):\n",
    "                if exonLen[i][j-1]%3 != 0 or exonLen[i][j+1]%3 != 0:\n",
    "                    total += 1\n",
    "            if cdsR[i][0]+1< len(exonLen[i]) and exonLen[i][cdsR[i][0]+1]%3 != 0:\n",
    "                total += 1\n",
    "            if cdsR[i][1]-1> cdsR[i][0] and exonLen[i][cdsR[i][1]-1]%3 != 0:\n",
    "                total += 1\n",
    "    total1= 0\n",
    "    for i in range(len(exonLen)):\n",
    "        total1 += data['exonCount'][i]\n",
    "    return total/total1"
   ]
  },
  {
   "cell_type": "code",
   "execution_count": null,
   "metadata": {},
   "outputs": [],
   "source": [
    "possibleRescue(refSeq,testSeq)"
   ]
  },
  {
   "cell_type": "code",
   "execution_count": null,
   "metadata": {},
   "outputs": [],
   "source": [
    "flag = False\n",
    "                        for l in range(8):\n",
    "                            if possibleRescue[i][j][k][l] != 0:\n",
    "                                flag = True\n",
    "                                break\n",
    "                        if flag:"
   ]
  }
 ],
 "metadata": {
  "kernelspec": {
   "display_name": "Python 3",
   "language": "python",
   "name": "python3"
  },
  "language_info": {
   "codemirror_mode": {
    "name": "ipython",
    "version": 3
   },
   "file_extension": ".py",
   "mimetype": "text/x-python",
   "name": "python",
   "nbconvert_exporter": "python",
   "pygments_lexer": "ipython3",
   "version": "3.6.3"
  }
 },
 "nbformat": 4,
 "nbformat_minor": 2
}
